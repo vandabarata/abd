{
 "cells": [
  {
   "cell_type": "markdown",
   "metadata": {},
   "source": [
    "---\n",
    "# Algoritmos para Big Data\n",
    "\n",
    "**Handout 1 - Data Processing with Spark**\n",
    "\n",
    "**2024/25**\n",
    "\n",
    "This lab class aims to introduce basic PySpark operations to process data that was stored in csv or json files.\n",
    "\n",
    "This notebook should contain the implementation of the tasks presented in the handout.\n",
    "\n",
    "Hence both handout and notebook must be considered together as one."
   ]
  },
  {
   "cell_type": "markdown",
   "metadata": {},
   "source": [
    "---\n",
    "# Task A - Data ingestion"
   ]
  },
  {
   "cell_type": "markdown",
   "metadata": {},
   "source": [
    "### 1."
   ]
  },
  {
   "cell_type": "markdown",
   "metadata": {},
   "source": [
    "**Datasests**\n",
    "\n",
    "The two files can be downloaded from, respectively \n",
    "\n",
    "https://bigdata.iscte-iul.eu/datasets/iot_devices.json\n",
    "\n",
    "https://bigdata.iscte-iul.eu/datasets/fire-calls.csv"
   ]
  },
  {
   "cell_type": "markdown",
   "metadata": {},
   "source": [
    "### 2."
   ]
  },
  {
   "cell_type": "markdown",
   "metadata": {},
   "source": [
    "## Spark setup"
   ]
  },
  {
   "cell_type": "code",
   "execution_count": null,
   "metadata": {},
   "outputs": [],
   "source": [
    "# Basic imports\n",
    "import pyspark\n",
    "from pyspark.sql import SparkSession, Row\n",
    "import pyspark.sql.functions as F"
   ]
  },
  {
   "cell_type": "code",
   "execution_count": null,
   "metadata": {},
   "outputs": [],
   "source": [
    "# Build SparkSession\n",
    "spark = SparkSession.builder.appName(\"DataProcessing\").getOrCreate()"
   ]
  },
  {
   "cell_type": "markdown",
   "metadata": {},
   "source": [
    "## Reading data"
   ]
  },
  {
   "cell_type": "code",
   "execution_count": null,
   "metadata": {},
   "outputs": [],
   "source": [
    "# Reading data\n",
    "data_dir = \n",
    "file_iot = data_dir + 'iot_devices.json'\n",
    "file_calls = data_dir + 'sf-fire-calls.csv'\n",
    "\n",
    "data_iot =  spark.read.json(\n",
    "data_calls = spark.read.csv(\n"
   ]
  },
  {
   "cell_type": "markdown",
   "metadata": {},
   "source": [
    "## Checking data\n",
    "\n",
    "**Basic structures and data types**\n",
    "\n",
    "- Columns and rows\n",
    "- DataFrames\n",
    "- Datatypes"
   ]
  },
  {
   "cell_type": "markdown",
   "metadata": {},
   "source": [
    "### 3."
   ]
  },
  {
   "cell_type": "code",
   "execution_count": null,
   "metadata": {},
   "outputs": [],
   "source": [
    "# Checking iot data\n",
    "data_iot.\n",
    "data_iot.\n",
    "data_iot."
   ]
  },
  {
   "cell_type": "code",
   "execution_count": null,
   "metadata": {},
   "outputs": [],
   "source": [
    "# Checking calls data\n",
    "data_calls.\n",
    "data_calls.\n",
    "data_calls."
   ]
  },
  {
   "cell_type": "code",
   "execution_count": null,
   "metadata": {},
   "outputs": [],
   "source": [
    "col_iot = \n",
    "col_calls = \n",
    "print(len(col_iot), col_iot)\n",
    "print(len(col_calls), col_calls)"
   ]
  },
  {
   "cell_type": "markdown",
   "metadata": {},
   "source": [
    "**Expected results**\n",
    "```raw\n",
    "15 ['battery_level', 'c02_level', 'cca2', 'cca3', 'cn', 'device_id', 'device_name', 'humidity', 'ip', 'latitude', 'lcd', 'longitude', 'scale', 'temp', 'timestamp']\n",
    "28 ['CallNumber', 'UnitID', 'IncidentNumber', 'CallType', 'CallDate', 'WatchDate', 'CallFinalDisposition', 'AvailableDtTm', 'Address', 'City', 'Zipcode', 'Battalion', 'StationArea', 'Box', 'OriginalPriority', 'Priority', 'FinalPriority', 'ALSUnit', 'CallTypeGroup', 'NumAlarms', 'UnitType', 'UnitSequenceInCallDispatch', 'FirePreventionDistrict', 'SupervisorDistrict', 'Neighborhood', 'Location', 'RowID', 'Delay']\n",
    "```"
   ]
  },
  {
   "cell_type": "markdown",
   "metadata": {},
   "source": [
    "### 4."
   ]
  },
  {
   "cell_type": "code",
   "execution_count": null,
   "metadata": {},
   "outputs": [],
   "source": [
    "# get the first row\n",
    "first_row = data_iot\n",
    "first_row"
   ]
  },
  {
   "cell_type": "markdown",
   "metadata": {},
   "source": [
    "### 5."
   ]
  },
  {
   "cell_type": "code",
   "execution_count": null,
   "metadata": {},
   "outputs": [],
   "source": [
    "# get the first five rows\n",
    "five_rows = data_iot\n",
    "five_rows"
   ]
  },
  {
   "cell_type": "markdown",
   "metadata": {},
   "source": [
    "---\n",
    "# Task B - Data cleaning"
   ]
  },
  {
   "cell_type": "markdown",
   "metadata": {},
   "source": [
    "### 1."
   ]
  },
  {
   "cell_type": "markdown",
   "metadata": {},
   "source": [
    "## Removing duplicates if any"
   ]
  },
  {
   "cell_type": "code",
   "execution_count": null,
   "metadata": {},
   "outputs": [],
   "source": [
    "# Checking first: use dropDuplicates() and count()\n",
    "print(f'  data_iot: number of rows: {data_iot. }, after dropduplicates: {data_iot. }')\n",
    "print(f'data_calls: number of rows: {data_calls. }, after dropduplicates: {data_calls. }')"
   ]
  },
  {
   "cell_type": "code",
   "execution_count": null,
   "metadata": {},
   "outputs": [],
   "source": [
    "# Remove data_iot duplicates\n",
    "data_iot = data_iot.\n",
    "data_iot.count()\n",
    "\n",
    "# No need for data_calls"
   ]
  },
  {
   "cell_type": "markdown",
   "metadata": {},
   "source": [
    "## Handling missing values"
   ]
  },
  {
   "cell_type": "markdown",
   "metadata": {},
   "source": [
    "### 2."
   ]
  },
  {
   "cell_type": "code",
   "execution_count": null,
   "metadata": {},
   "outputs": [],
   "source": [
    "# Checking first\n",
    "\n",
    "# use dropna(how='any')\n",
    "# how='all' remove only if all values are NA\n",
    "print(f\"After dropna would be: data_iot = {data_iot.  } rows\")\n",
    "print(f\"After dropna would be: data_calls = {data_calls. } rows\")\n"
   ]
  },
  {
   "cell_type": "code",
   "execution_count": null,
   "metadata": {},
   "outputs": [],
   "source": [
    "# Let us see in calls where the NULL values are (by columns)\n",
    "dict_nulls_calls = {col: data_calls.filter(data_calls[col].isNull()).count() for col in data_calls.columns}\n",
    "dict_nulls_calls"
   ]
  },
  {
   "cell_type": "code",
   "execution_count": null,
   "metadata": {},
   "outputs": [],
   "source": [
    "# Let us see in iot where the NULL values are (by columns)\n",
    "dict_nulls_iot = \n",
    "dict_nulls_iot"
   ]
  },
  {
   "cell_type": "markdown",
   "metadata": {},
   "source": [
    "### 3."
   ]
  },
  {
   "cell_type": "code",
   "execution_count": null,
   "metadata": {},
   "outputs": [],
   "source": [
    "# Removal of columns 'AvailableDtTm', 'OriginalPriority', 'CallTypeGroup'\n",
    "cols_to_dismiss = \n",
    "\n",
    "# Use drop() and reference the list with *\n",
    "data_cals = data_calls.\n",
    "\n",
    "# or the other way around: pick up the valid ones"
   ]
  },
  {
   "cell_type": "markdown",
   "metadata": {},
   "source": [
    "### 4."
   ]
  },
  {
   "cell_type": "code",
   "execution_count": null,
   "metadata": {},
   "outputs": [],
   "source": [
    "# data_calls.describe().show()\n",
    "\n",
    "# Checking the number of rows before and after removing NULLs\n",
    "print(f\"after droping columns data_calls = {data_calls. } rows, after removing NULLs: {data_calls. } rows\")\n"
   ]
  },
  {
   "cell_type": "markdown",
   "metadata": {},
   "source": [
    "### 5."
   ]
  },
  {
   "cell_type": "code",
   "execution_count": null,
   "metadata": {},
   "outputs": [],
   "source": [
    "# Drop nulls now\n",
    "data_calls = data_calls.\n",
    "data_calls.count()"
   ]
  },
  {
   "cell_type": "markdown",
   "metadata": {},
   "source": [
    "**Note:** We could have use fill in, instead of dropping the rows:\n",
    "\n",
    "`df_calls.na.fill({'column: value})`"
   ]
  },
  {
   "cell_type": "code",
   "execution_count": null,
   "metadata": {},
   "outputs": [],
   "source": [
    "# The outcome\n",
    "# Show one record in vertical mode for better reading\n",
    "data_calls."
   ]
  },
  {
   "cell_type": "markdown",
   "metadata": {},
   "source": [
    "### 6."
   ]
  },
  {
   "cell_type": "code",
   "execution_count": null,
   "metadata": {},
   "outputs": [],
   "source": [
    "# Transforming datatypes\n",
    "# Create two new columns 'CallDateTS' and 'WatchDateTS' with withColumn and F.to_timestamp()\n",
    "data_calls = ( data_calls\n",
    "              \n",
    ")"
   ]
  },
  {
   "cell_type": "markdown",
   "metadata": {},
   "source": [
    "---\n",
    "# Task C - Data transformation"
   ]
  },
  {
   "cell_type": "markdown",
   "metadata": {},
   "source": [
    "### 1."
   ]
  },
  {
   "cell_type": "code",
   "execution_count": null,
   "metadata": {},
   "outputs": [],
   "source": [
    "# Adding transformed (derived) columns\n",
    "# Two new columns 'CallDateMonth' and 'CallDateWeekDay' and use F.month and F.dayofweek on 'CallDateTS'\n",
    "data_calls = ( data_calls\n",
    "              \n",
    "              \n",
    ")\n",
    "\n",
    "data_calls.show(5)"
   ]
  },
  {
   "cell_type": "markdown",
   "metadata": {},
   "source": [
    "### 2."
   ]
  },
  {
   "cell_type": "code",
   "execution_count": null,
   "metadata": {},
   "outputs": [],
   "source": [
    "# Change name of column NumAlarms to NumberAlarms with withColumnRenamed\n",
    "data_calls = data_calls.\n",
    "\n",
    "data_calls.show(5)"
   ]
  },
  {
   "cell_type": "markdown",
   "metadata": {},
   "source": [
    "### 3."
   ]
  },
  {
   "cell_type": "code",
   "execution_count": null,
   "metadata": {},
   "outputs": [],
   "source": [
    "# Use sort() with F.col().desc() on 'CallNumber'\n",
    "data_calls = data_calls.sort(\n",
    "\n",
    "data_calls.show(5)"
   ]
  },
  {
   "cell_type": "markdown",
   "metadata": {},
   "source": [
    "---\n",
    "# Task D - Data aggregation"
   ]
  },
  {
   "cell_type": "markdown",
   "metadata": {},
   "source": [
    "## Basic aggregation"
   ]
  },
  {
   "cell_type": "markdown",
   "metadata": {},
   "source": [
    "### 1."
   ]
  },
  {
   "cell_type": "code",
   "execution_count": 134,
   "metadata": {},
   "outputs": [
    {
     "ename": "SyntaxError",
     "evalue": "invalid syntax (1513841095.py, line 3)",
     "output_type": "error",
     "traceback": [
      "\u001b[0;36m  Cell \u001b[0;32mIn[134], line 3\u001b[0;36m\u001b[0m\n\u001b[0;31m    data_calls.\u001b[0m\n\u001b[0m               ^\u001b[0m\n\u001b[0;31mSyntaxError\u001b[0m\u001b[0;31m:\u001b[0m invalid syntax\n"
     ]
    }
   ],
   "source": [
    "# Find out min, max, average, sum, count\n",
    "# Use agg() either with {'column name', 'function'} or F.avg() F.min() F.max() and F.sum()\n",
    "data_calls.\n",
    "data_calls.\n",
    "data_calls.\n",
    "data_calls.\n",
    "data_calls."
   ]
  },
  {
   "cell_type": "markdown",
   "metadata": {},
   "source": [
    "### 2."
   ]
  },
  {
   "cell_type": "code",
   "execution_count": null,
   "metadata": {},
   "outputs": [],
   "source": [
    "# Use describe()\n",
    "data_calls."
   ]
  },
  {
   "cell_type": "markdown",
   "metadata": {},
   "source": [
    "## Grouped aggregation"
   ]
  },
  {
   "cell_type": "markdown",
   "metadata": {},
   "source": [
    "### 3."
   ]
  },
  {
   "cell_type": "code",
   "execution_count": null,
   "metadata": {},
   "outputs": [],
   "source": [
    "# use grouBy() on 'CallType' and agg() on 'CallDateMonth', 'CallDateWeekDay' and 'Delay'\n",
    "# show at most 50 rows with .show(50, truncate=False)\n",
    "( data_calls.\n",
    " \n",
    " \n",
    ")"
   ]
  },
  {
   "cell_type": "markdown",
   "metadata": {},
   "source": [
    "**Expected result**\n",
    "```raw\n",
    "+--------------------------------------------+------------------+------------------+--------------------+\n",
    "|CallType                                    |avg(CallDateMonth)|avg(Delay)        |avg(CallDateWeekDay)|\n",
    "+--------------------------------------------+------------------+------------------+--------------------+\n",
    "|Elevator / Escalator Rescue                 |6.208121827411167 |4.435448395939084 |4.355329949238579   |\n",
    "|Marine Fire                                 |8.6               |7.9033333400000005|4.4                 |\n",
    "|Aircraft Emergency                          |11.0              |7.7               |1.0                 |\n",
    "|Confined Space / Structure Collapse         |7.875             |6.085416649999999 |4.0                 |\n",
    "|Alarms                                      |6.555663587749149 |3.8584001800838688|4.0523821098687405  |\n",
    "|Odor (Strange / Unknown)                    |6.303571428571429 |5.943005935714283 |4.151785714285714   |\n",
    "|Citizen Assist / Service Call               |6.599781897491821 |5.742093786913859 |3.911668484187568   |\n",
    "|HazMat                                      |6.023255813953488 |6.879844916279069 |4.6976744186046515  |\n",
    "|Watercraft in Distress                      |8.5               |7.885714400000002 |4.928571428571429   |\n",
    "|Explosion                                   |7.0               |4.646111146666666 |3.966666666666667   |\n",
    "|Vehicle Fire                                |6.264285714285714 |3.889761918392857 |4.2178571428571425  |\n",
    "|Suspicious Package                          |5.75              |11.045833499999999|3.25                |\n",
    "|Extrication / Entrapped (Machinery, Vehicle)|6.7               |5.035000019999999 |4.0                 |\n",
    "|Other                                       |6.496359223300971 |6.528357611383497 |3.936893203883495   |\n",
    "|Outside Fire                                |6.282632146709816 |4.508881697572809 |3.9773462783171523  |\n",
    "|Traffic Collision                           |6.532761788120024 |4.007960809130437 |4.063380281690141   |\n",
    "|Assist Police                               |4.363636363636363 |10.645454609090908|4.181818181818182   |\n",
    "|Gas Leak (Natural and LP Gases)             |6.343832020997375 |4.363604546456693 |3.979002624671916   |\n",
    "|Water Rescue                                |6.106024096385542 |5.9738955807229   |4.125301204819277   |\n",
    "|Electrical Hazard                           |6.377777777777778 |4.313481479555555 |3.8266666666666667  |\n",
    "|High Angle Rescue                           |6.714285714285714 |7.1488095285714275|4.142857142857143   |\n",
    "|Structure Fire                              |6.566578316294333 |3.5555240030039217|4.0411460305439855  |\n",
    "|Industrial Accidents                        |6.076923076923077 |4.028205084615384 |3.0                 |\n",
    "|Medical Incident                            |6.451672010994045 |3.9335766504404934|4.025931605887391   |\n",
    "|Mutual Aid / Assist Outside Agency          |8.0               |7.35              |5.0                 |\n",
    "|Fuel Spill                                  |6.585714285714285 |6.202619058571429 |4.4                 |\n",
    "|Smoke Investigation (Outside)               |6.694267515923567 |4.766348174267515 |3.751592356687898   |\n",
    "|Train / Rail Incident                       |4.7368421052631575|32.2991227368421  |2.526315789473684   |\n",
    "+--------------------------------------------+------------------+------------------+--------------------+\n",
    "```"
   ]
  },
  {
   "cell_type": "markdown",
   "metadata": {},
   "source": [
    "### 4."
   ]
  },
  {
   "cell_type": "code",
   "execution_count": null,
   "metadata": {},
   "outputs": [],
   "source": [
    "# Use orderBy() on column 'avg(Delay)' and with option ascending=False\n",
    "( data_calls.\n",
    " \n",
    " \n",
    ")"
   ]
  },
  {
   "cell_type": "markdown",
   "metadata": {},
   "source": [
    "**Expected result**\n",
    "```raw\n",
    "+--------------------------------------------+------------------+------------------+--------------------+\n",
    "|CallType                                    |avg(CallDateMonth)|avg(Delay)        |avg(CallDateWeekDay)|\n",
    "+--------------------------------------------+------------------+------------------+--------------------+\n",
    "|Train / Rail Incident                       |4.7368421052631575|32.2991227368421  |2.526315789473684   |\n",
    "|Suspicious Package                          |5.75              |11.045833499999999|3.25                |\n",
    "|Assist Police                               |4.363636363636363 |10.645454609090908|4.181818181818182   |\n",
    "|Marine Fire                                 |8.6               |7.9033333400000005|4.4                 |\n",
    "|Watercraft in Distress                      |8.5               |7.885714400000002 |4.928571428571429   |\n",
    "|Aircraft Emergency                          |11.0              |7.7               |1.0                 |\n",
    "|Mutual Aid / Assist Outside Agency          |8.0               |7.35              |5.0                 |\n",
    "|High Angle Rescue                           |6.714285714285714 |7.1488095285714275|4.142857142857143   |\n",
    "|HazMat                                      |6.023255813953488 |6.879844916279069 |4.6976744186046515  |\n",
    "|Other                                       |6.496359223300971 |6.528357611383497 |3.936893203883495   |\n",
    "|Fuel Spill                                  |6.585714285714285 |6.202619058571429 |4.4                 |\n",
    "|Confined Space / Structure Collapse         |7.875             |6.085416649999999 |4.0                 |\n",
    "|Water Rescue                                |6.106024096385542 |5.9738955807229   |4.125301204819277   |\n",
    "|Odor (Strange / Unknown)                    |6.303571428571429 |5.943005935714283 |4.151785714285714   |\n",
    "|Citizen Assist / Service Call               |6.599781897491821 |5.742093786913859 |3.911668484187568   |\n",
    "|Extrication / Entrapped (Machinery, Vehicle)|6.7               |5.035000019999999 |4.0                 |\n",
    "|Smoke Investigation (Outside)               |6.694267515923567 |4.766348174267515 |3.751592356687898   |\n",
    "|Explosion                                   |7.0               |4.646111146666666 |3.966666666666667   |\n",
    "|Outside Fire                                |6.282632146709816 |4.508881697572809 |3.9773462783171523  |\n",
    "|Elevator / Escalator Rescue                 |6.208121827411167 |4.435448395939084 |4.355329949238579   |\n",
    "|Gas Leak (Natural and LP Gases)             |6.343832020997375 |4.363604546456693 |3.979002624671916   |\n",
    "|Electrical Hazard                           |6.377777777777778 |4.313481479555555 |3.8266666666666667  |\n",
    "|Industrial Accidents                        |6.076923076923077 |4.028205084615384 |3.0                 |\n",
    "|Traffic Collision                           |6.532761788120024 |4.007960809130437 |4.063380281690141   |\n",
    "|Medical Incident                            |6.451672010994045 |3.9335766504404934|4.025931605887391   |\n",
    "|Vehicle Fire                                |6.264285714285714 |3.889761918392857 |4.2178571428571425  |\n",
    "|Alarms                                      |6.555663587749149 |3.8584001800838688|4.0523821098687405  |\n",
    "|Structure Fire                              |6.566578316294333 |3.5555240030039217|4.0411460305439855  |\n",
    "+--------------------------------------------+------------------+------------------+--------------------+\n",
    "```"
   ]
  },
  {
   "cell_type": "markdown",
   "metadata": {},
   "source": [
    "### 5."
   ]
  },
  {
   "cell_type": "code",
   "execution_count": null,
   "metadata": {},
   "outputs": [],
   "source": [
    "# groupby on 'CallType' and 'Neighborhood'\n",
    "# aggregate on count(CallNumber) with alias CountCalls, avg(Delay) with alias AvgDelay,\n",
    "# min(Delay) with alias MinDelay, and max(Delay) with alias MaxDelay\n",
    "# in descending order by CallType and then Neighborhood.\n",
    "\n",
    "( data_calls.\n",
    " \n",
    "\n",
    " \n",
    ")\n"
   ]
  },
  {
   "cell_type": "markdown",
   "metadata": {},
   "source": [
    "**Expected result**\n",
    "```raw\n",
    "+--------------------------------------------+------------------+------------------+--------------------+\n",
    "|CallType                                    |avg(CallDateMonth)|avg(Delay)        |avg(CallDateWeekDay)|\n",
    "+--------------------------------------------+------------------+------------------+--------------------+\n",
    "|Train / Rail Incident                       |4.7368421052631575|32.2991227368421  |2.526315789473684   |\n",
    "|Suspicious Package                          |5.75              |11.045833499999999|3.25                |\n",
    "|Assist Police                               |4.363636363636363 |10.645454609090908|4.181818181818182   |\n",
    "|Marine Fire                                 |8.6               |7.9033333400000005|4.4                 |\n",
    "|Watercraft in Distress                      |8.5               |7.885714400000002 |4.928571428571429   |\n",
    "|Aircraft Emergency                          |11.0              |7.7               |1.0                 |\n",
    "|Mutual Aid / Assist Outside Agency          |8.0               |7.35              |5.0                 |\n",
    "|High Angle Rescue                           |6.714285714285714 |7.1488095285714275|4.142857142857143   |\n",
    "|HazMat                                      |6.023255813953488 |6.879844916279069 |4.6976744186046515  |\n",
    "|Other                                       |6.496359223300971 |6.528357611383497 |3.936893203883495   |\n",
    "|Fuel Spill                                  |6.585714285714285 |6.202619058571429 |4.4                 |\n",
    "|Confined Space / Structure Collapse         |7.875             |6.085416649999999 |4.0                 |\n",
    "|Water Rescue                                |6.106024096385542 |5.9738955807229   |4.125301204819277   |\n",
    "|Odor (Strange / Unknown)                    |6.303571428571429 |5.943005935714283 |4.151785714285714   |\n",
    "|Citizen Assist / Service Call               |6.599781897491821 |5.742093786913859 |3.911668484187568   |\n",
    "|Extrication / Entrapped (Machinery, Vehicle)|6.7               |5.035000019999999 |4.0                 |\n",
    "|Smoke Investigation (Outside)               |6.694267515923567 |4.766348174267515 |3.751592356687898   |\n",
    "|Explosion                                   |7.0               |4.646111146666666 |3.966666666666667   |\n",
    "|Outside Fire                                |6.282632146709816 |4.508881697572809 |3.9773462783171523  |\n",
    "|Elevator / Escalator Rescue                 |6.208121827411167 |4.435448395939084 |4.355329949238579   |\n",
    "|Gas Leak (Natural and LP Gases)             |6.343832020997375 |4.363604546456693 |3.979002624671916   |\n",
    "|Electrical Hazard                           |6.377777777777778 |4.313481479555555 |3.8266666666666667  |\n",
    "|Industrial Accidents                        |6.076923076923077 |4.028205084615384 |3.0                 |\n",
    "|Traffic Collision                           |6.532761788120024 |4.007960809130437 |4.063380281690141   |\n",
    "|Medical Incident                            |6.451672010994045 |3.9335766504404934|4.025931605887391   |\n",
    "|Vehicle Fire                                |6.264285714285714 |3.889761918392857 |4.2178571428571425  |\n",
    "|Alarms                                      |6.555663587749149 |3.8584001800838688|4.0523821098687405  |\n",
    "|Structure Fire                              |6.566578316294333 |3.5555240030039217|4.0411460305439855  |\n",
    "+--------------------------------------------+------------------+------------------+--------------------+\n",
    "only showing top 20 rows\n",
    "````"
   ]
  },
  {
   "cell_type": "markdown",
   "metadata": {},
   "source": [
    "## Graphics \n",
    "\n",
    "Showing outcome of data aggregation with plots so we can better understand"
   ]
  },
  {
   "cell_type": "markdown",
   "metadata": {},
   "source": [
    "### 6."
   ]
  },
  {
   "cell_type": "code",
   "execution_count": null,
   "metadata": {},
   "outputs": [],
   "source": [
    "# !pip install plotly \n",
    "# https://plotly.com/python/\n",
    "import plotly\n",
    "import pandas as pd\n",
    "import plotly.express as px\n",
    "plotly.__version__"
   ]
  },
  {
   "cell_type": "code",
   "execution_count": null,
   "metadata": {},
   "outputs": [],
   "source": [
    "# Get data aggregation\n",
    "data_plot = ( data_calls\n",
    "    .groupBy('CallType')\n",
    "    .count()\n",
    "    .orderBy('count', ascending=False)\n",
    ")\n",
    "\n",
    "# data_plot.show(truncate=False)"
   ]
  },
  {
   "cell_type": "code",
   "execution_count": null,
   "metadata": {},
   "outputs": [],
   "source": [
    "# draw the bar plot\n",
    "fig = px.bar(data_plot.toPandas(),x='CallType',y='count')\n",
    "fig.show()"
   ]
  },
  {
   "cell_type": "code",
   "execution_count": null,
   "metadata": {},
   "outputs": [],
   "source": []
  }
 ],
 "metadata": {
  "kernelspec": {
   "display_name": "vscode_pyspark",
   "language": "python",
   "name": "vscode_pyspark"
  },
  "language_info": {
   "codemirror_mode": {
    "name": "ipython",
    "version": 3
   },
   "file_extension": ".py",
   "mimetype": "text/x-python",
   "name": "python",
   "nbconvert_exporter": "python",
   "pygments_lexer": "ipython3",
   "version": "3.11.11"
  }
 },
 "nbformat": 4,
 "nbformat_minor": 2
}
